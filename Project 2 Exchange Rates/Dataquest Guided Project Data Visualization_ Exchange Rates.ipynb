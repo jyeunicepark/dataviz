{
 "cells": [
  {
   "cell_type": "markdown",
   "metadata": {},
   "source": [
    "### Guided Project 2: Exchange Rates\n",
    "\n",
    "The dataset we'll use describes Euro daily exchange rates between 1999 and 2021. The euro (symbolized with €) is the official currency in most of the countries of the European Union.\n",
    "\n",
    "Daria Chemkaeva put together the data set and made it available on <a href ='https://www.kaggle.com/lsind18/euro-exchange-daily-rates-19992020'> Kaggle </a> — the data source is the European Central Bank. Note that the dataset gets regular updates — we downloaded it on January 2021.\n",
    "\n"
   ]
  },
  {
   "cell_type": "code",
   "execution_count": 1,
   "metadata": {},
   "outputs": [
    {
     "name": "stdout",
     "output_type": "stream",
     "text": [
      "  Period\\Unit: [Australian dollar ] [Bulgarian lev ] [Brazilian real ]  \\\n",
      "0   2021-05-06               1.5547           1.9558            6.4707   \n",
      "1   2021-05-05               1.5510           1.9558            6.5174   \n",
      "2   2021-05-04               1.5608           1.9558            6.5785   \n",
      "3   2021-05-03               1.5573           1.9558            6.5507   \n",
      "4   2021-04-30               1.5581           1.9558            6.4597   \n",
      "\n",
      "  [Canadian dollar ] [Swiss franc ] [Chinese yuan renminbi ] [Cypriot pound ]  \\\n",
      "0             1.4764         1.0953                   7.8054              NaN   \n",
      "1             1.4731         1.0965                   7.7636              NaN   \n",
      "2             1.4836         1.0980                   7.8136              NaN   \n",
      "3             1.4807         1.1016                   7.7967              NaN   \n",
      "4             1.4834         1.0998                   7.8134              NaN   \n",
      "\n",
      "  [Czech koruna ] [Danish krone ]  ... [Romanian leu ] [Russian rouble ]  \\\n",
      "0          25.847          7.4360  ...          4.9264           89.8825   \n",
      "1          25.825          7.4360  ...          4.9271           89.7964   \n",
      "2          25.841          7.4361  ...          4.9275           90.2438   \n",
      "3          25.773          7.4365  ...          4.9269           90.7472   \n",
      "4          25.883          7.4360  ...          4.9285           90.7108   \n",
      "\n",
      "  [Swedish krona ] [Singapore dollar ] [Slovenian tolar ] [Slovak koruna ]  \\\n",
      "0          10.1940              1.6096                NaN              NaN   \n",
      "1          10.1945              1.6035                NaN              NaN   \n",
      "2          10.1673              1.6073                NaN              NaN   \n",
      "3          10.1803              1.6044                NaN              NaN   \n",
      "4          10.1640              1.6045                NaN              NaN   \n",
      "\n",
      "  [Thai baht ] [Turkish lira ] [US dollar ]  [South African rand ]  \n",
      "0      37.7120         10.0490       1.2060                17.2081  \n",
      "1      37.3660         10.0174       1.2005                17.3013  \n",
      "2      37.4750         10.0110       1.2021                17.4433  \n",
      "3      37.5650         10.0087       1.2044                17.3953  \n",
      "4      37.6480          9.9777       1.2082                17.3875  \n",
      "\n",
      "[5 rows x 41 columns]\n"
     ]
    }
   ],
   "source": [
    "import pandas as pd\n",
    "import matplotlib.pyplot as plt\n",
    "\n",
    "%matplotlib inline\n",
    "\n",
    "exchange_rates = pd.read_csv('euro-daily-hist_1999_2020.csv')\n",
    "print(exchange_rates.head())"
   ]
  },
  {
   "cell_type": "code",
   "execution_count": 2,
   "metadata": {},
   "outputs": [
    {
     "name": "stdout",
     "output_type": "stream",
     "text": [
      "<class 'pandas.core.frame.DataFrame'>\n",
      "RangeIndex: 5781 entries, 0 to 5780\n",
      "Data columns (total 41 columns):\n",
      " #   Column                    Non-Null Count  Dtype  \n",
      "---  ------                    --------------  -----  \n",
      " 0   Period\\Unit:              5781 non-null   object \n",
      " 1   [Australian dollar ]      5781 non-null   object \n",
      " 2   [Bulgarian lev ]          5379 non-null   object \n",
      " 3   [Brazilian real ]         5513 non-null   object \n",
      " 4   [Canadian dollar ]        5781 non-null   object \n",
      " 5   [Swiss franc ]            5781 non-null   object \n",
      " 6   [Chinese yuan renminbi ]  5513 non-null   object \n",
      " 7   [Cypriot pound ]          2346 non-null   object \n",
      " 8   [Czech koruna ]           5781 non-null   object \n",
      " 9   [Danish krone ]           5781 non-null   object \n",
      " 10  [Estonian kroon ]         3130 non-null   object \n",
      " 11  [UK pound sterling ]      5781 non-null   object \n",
      " 12  [Greek drachma ]          520 non-null    object \n",
      " 13  [Hong Kong dollar ]       5781 non-null   object \n",
      " 14  [Croatian kuna ]          5513 non-null   object \n",
      " 15  [Hungarian forint ]       5781 non-null   object \n",
      " 16  [Indonesian rupiah ]      5781 non-null   object \n",
      " 17  [Israeli shekel ]         5513 non-null   object \n",
      " 18  [Indian rupee ]           5513 non-null   object \n",
      " 19  [Iceland krona ]          3374 non-null   float64\n",
      " 20  [Japanese yen ]           5781 non-null   object \n",
      " 21  [Korean won ]             5781 non-null   object \n",
      " 22  [Lithuanian litas ]       4159 non-null   object \n",
      " 23  [Latvian lats ]           3904 non-null   object \n",
      " 24  [Maltese lira ]           2346 non-null   object \n",
      " 25  [Mexican peso ]           5781 non-null   object \n",
      " 26  [Malaysian ringgit ]      5781 non-null   object \n",
      " 27  [Norwegian krone ]        5781 non-null   object \n",
      " 28  [New Zealand dollar ]     5781 non-null   object \n",
      " 29  [Philippine peso ]        5781 non-null   object \n",
      " 30  [Polish zloty ]           5781 non-null   object \n",
      " 31  [Romanian leu ]           5719 non-null   float64\n",
      " 32  [Russian rouble ]         5781 non-null   object \n",
      " 33  [Swedish krona ]          5781 non-null   object \n",
      " 34  [Singapore dollar ]       5781 non-null   object \n",
      " 35  [Slovenian tolar ]        2085 non-null   object \n",
      " 36  [Slovak koruna ]          2608 non-null   object \n",
      " 37  [Thai baht ]              5781 non-null   object \n",
      " 38  [Turkish lira ]           5719 non-null   float64\n",
      " 39  [US dollar ]              5781 non-null   object \n",
      " 40  [South African rand ]     5781 non-null   object \n",
      "dtypes: float64(3), object(38)\n",
      "memory usage: 1.8+ MB\n"
     ]
    }
   ],
   "source": [
    "exchange_rates.info()"
   ]
  },
  {
   "cell_type": "markdown",
   "metadata": {},
   "source": [
    "### Data Cleaning"
   ]
  },
  {
   "cell_type": "markdown",
   "metadata": {},
   "source": [
    "* We rename the [US dollar ] and Period\\Unit: columns to something easier to type — US_dollar and Time.\n",
    "* We change the Time column to a datetime data type.\n",
    "* We sort the values by Time in ascending order.\n",
    "* We reset the index (and drop the initial index).\n"
   ]
  },
  {
   "cell_type": "code",
   "execution_count": 3,
   "metadata": {},
   "outputs": [],
   "source": [
    "exchange_rates.rename(columns={'[US dollar ]': 'US_dollar',\n",
    "                               'Period\\\\Unit:': 'Time'},\n",
    "                      inplace=True)\n",
    "exchange_rates['Time'] = pd.to_datetime(exchange_rates['Time'])\n",
    "exchange_rates.sort_values('Time', inplace=True)\n",
    "exchange_rates.reset_index(drop=True, inplace=True)"
   ]
  },
  {
   "cell_type": "code",
   "execution_count": 4,
   "metadata": {},
   "outputs": [
    {
     "data": {
      "text/plain": [
       "-         62\n",
       "1.2276     9\n",
       "1.1215     8\n",
       "1.1305     7\n",
       "1.1346     6\n",
       "          ..\n",
       "1.2378     1\n",
       "1.4538     1\n",
       "1.5020     1\n",
       "1.0845     1\n",
       "1.3052     1\n",
       "Name: US_dollar, Length: 3549, dtype: int64"
      ]
     },
     "execution_count": 4,
     "metadata": {},
     "output_type": "execute_result"
    }
   ],
   "source": [
    "euro_to_dollar = exchange_rates[['Time', 'US_dollar']].copy()\n",
    "euro_to_dollar['US_dollar'].value_counts()"
   ]
  },
  {
   "cell_type": "code",
   "execution_count": 5,
   "metadata": {},
   "outputs": [],
   "source": [
    "#Drop all the rows where the - character appears in the US_dollar column."
   ]
  },
  {
   "cell_type": "code",
   "execution_count": 6,
   "metadata": {},
   "outputs": [],
   "source": [
    "euro_to_dollar = euro_to_dollar[euro_to_dollar['US_dollar'] != '-']"
   ]
  },
  {
   "cell_type": "code",
   "execution_count": 7,
   "metadata": {},
   "outputs": [],
   "source": [
    "#Convert the data type from int64 to float"
   ]
  },
  {
   "cell_type": "code",
   "execution_count": 8,
   "metadata": {},
   "outputs": [],
   "source": [
    "euro_to_dollar['US_dollar'] = euro_to_dollar['US_dollar'].astype(float)"
   ]
  },
  {
   "cell_type": "code",
   "execution_count": 9,
   "metadata": {},
   "outputs": [
    {
     "name": "stdout",
     "output_type": "stream",
     "text": [
      "<class 'pandas.core.frame.DataFrame'>\n",
      "Int64Index: 5719 entries, 0 to 5780\n",
      "Data columns (total 2 columns):\n",
      " #   Column     Non-Null Count  Dtype         \n",
      "---  ------     --------------  -----         \n",
      " 0   Time       5719 non-null   datetime64[ns]\n",
      " 1   US_dollar  5719 non-null   float64       \n",
      "dtypes: datetime64[ns](1), float64(1)\n",
      "memory usage: 134.0 KB\n"
     ]
    }
   ],
   "source": [
    "euro_to_dollar.info()"
   ]
  },
  {
   "cell_type": "code",
   "execution_count": 10,
   "metadata": {},
   "outputs": [],
   "source": [
    "%matplotlib inline "
   ]
  },
  {
   "cell_type": "code",
   "execution_count": 11,
   "metadata": {},
   "outputs": [
    {
     "data": {
      "image/png": "[encoded data removed]",
      "text/plain": [
       "<Figure size 432x288 with 1 Axes>"
      ]
     },
     "metadata": {
      "needs_background": "light"
     },
     "output_type": "display_data"
    }
   ],
   "source": [
    "plt.plot(euro_to_dollar['Time'], euro_to_dollar['US_dollar'])\n",
    "plt.show()"
   ]
  },
  {
   "cell_type": "markdown",
   "metadata": {},
   "source": [
    "We will use a 30-day rolling mean to calculate the moving average of the exchange rate (EUR-USD)"
   ]
  },
  {
   "cell_type": "code",
   "execution_count": 12,
   "metadata": {},
   "outputs": [],
   "source": [
    "euro_to_dollar['rolling_mean'] = euro_to_dollar['US_dollar'].rolling(30).mean()"
   ]
  },
  {
   "cell_type": "code",
   "execution_count": 13,
   "metadata": {},
   "outputs": [
    {
     "data": {
      "text/html": [
       "<div>\n",
       "<style scoped>\n",
       "    .dataframe tbody tr th:only-of-type {\n",
       "        vertical-align: middle;\n",
       "    }\n",
       "\n",
       "    .dataframe tbody tr th {\n",
       "        vertical-align: top;\n",
       "    }\n",
       "\n",
       "    .dataframe thead th {\n",
       "        text-align: right;\n",
       "    }\n",
       "</style>\n",
       "<table border=\"1\" class=\"dataframe\">\n",
       "  <thead>\n",
       "    <tr style=\"text-align: right;\">\n",
       "      <th></th>\n",
       "      <th>Time</th>\n",
       "      <th>US_dollar</th>\n",
       "      <th>rolling_mean</th>\n",
       "    </tr>\n",
       "  </thead>\n",
       "  <tbody>\n",
       "    <tr>\n",
       "      <th>0</th>\n",
       "      <td>1999-01-04</td>\n",
       "      <td>1.1789</td>\n",
       "      <td>NaN</td>\n",
       "    </tr>\n",
       "    <tr>\n",
       "      <th>1</th>\n",
       "      <td>1999-01-05</td>\n",
       "      <td>1.1790</td>\n",
       "      <td>NaN</td>\n",
       "    </tr>\n",
       "    <tr>\n",
       "      <th>2</th>\n",
       "      <td>1999-01-06</td>\n",
       "      <td>1.1743</td>\n",
       "      <td>NaN</td>\n",
       "    </tr>\n",
       "    <tr>\n",
       "      <th>3</th>\n",
       "      <td>1999-01-07</td>\n",
       "      <td>1.1632</td>\n",
       "      <td>NaN</td>\n",
       "    </tr>\n",
       "    <tr>\n",
       "      <th>4</th>\n",
       "      <td>1999-01-08</td>\n",
       "      <td>1.1659</td>\n",
       "      <td>NaN</td>\n",
       "    </tr>\n",
       "    <tr>\n",
       "      <th>...</th>\n",
       "      <td>...</td>\n",
       "      <td>...</td>\n",
       "      <td>...</td>\n",
       "    </tr>\n",
       "    <tr>\n",
       "      <th>5776</th>\n",
       "      <td>2021-04-30</td>\n",
       "      <td>1.2082</td>\n",
       "      <td>1.192843</td>\n",
       "    </tr>\n",
       "    <tr>\n",
       "      <th>5777</th>\n",
       "      <td>2021-05-03</td>\n",
       "      <td>1.2044</td>\n",
       "      <td>1.193283</td>\n",
       "    </tr>\n",
       "    <tr>\n",
       "      <th>5778</th>\n",
       "      <td>2021-05-04</td>\n",
       "      <td>1.2021</td>\n",
       "      <td>1.193717</td>\n",
       "    </tr>\n",
       "    <tr>\n",
       "      <th>5779</th>\n",
       "      <td>2021-05-05</td>\n",
       "      <td>1.2005</td>\n",
       "      <td>1.193980</td>\n",
       "    </tr>\n",
       "    <tr>\n",
       "      <th>5780</th>\n",
       "      <td>2021-05-06</td>\n",
       "      <td>1.2060</td>\n",
       "      <td>1.194570</td>\n",
       "    </tr>\n",
       "  </tbody>\n",
       "</table>\n",
       "<p>5719 rows × 3 columns</p>\n",
       "</div>"
      ],
      "text/plain": [
       "           Time  US_dollar  rolling_mean\n",
       "0    1999-01-04     1.1789           NaN\n",
       "1    1999-01-05     1.1790           NaN\n",
       "2    1999-01-06     1.1743           NaN\n",
       "3    1999-01-07     1.1632           NaN\n",
       "4    1999-01-08     1.1659           NaN\n",
       "...         ...        ...           ...\n",
       "5776 2021-04-30     1.2082      1.192843\n",
       "5777 2021-05-03     1.2044      1.193283\n",
       "5778 2021-05-04     1.2021      1.193717\n",
       "5779 2021-05-05     1.2005      1.193980\n",
       "5780 2021-05-06     1.2060      1.194570\n",
       "\n",
       "[5719 rows x 3 columns]"
      ]
     },
     "execution_count": 13,
     "metadata": {},
     "output_type": "execute_result"
    }
   ],
   "source": [
    "euro_to_dollar"
   ]
  },
  {
   "cell_type": "markdown",
   "metadata": {},
   "source": [
    "### Coming Up With An Idea \n",
    "\n",
    "Here are a few story ideas for our data:\n",
    "\n",
    "* We show how the euro-dollar rate has changed during the coronavirus pandemic. \n",
    "* We can show the 2020 data and the 2016-2019 data as a baseline. We can use a line plot.\n",
    "* We show how the euro-dollar rate changed during the 2007-2008's financial crisis. \n",
    "* We can also show the data for 2016 and 2009 for comparison. We can use a line plot.\n",
    "* We show comparatively how the euro-dollar rate changed under the last three US presidents (George W. Bush (2001-2009), Barack Obama (2009-2017), and Donald Trump (2017-2021)). We can use a line plot.\n",
    "\n",
    "In this project, how the euro-dollar rate changed under the last three US presidents (George W. Bush (2001-2009), Barack Obama (2009-2017), and Donald Trump (2017-2021)). We can use a line plot."
   ]
  },
  {
   "cell_type": "code",
   "execution_count": 14,
   "metadata": {},
   "outputs": [],
   "source": [
    "bush_obama_trump = euro_to_dollar.copy(\n",
    "                    )[(euro_to_dollar['Time'].dt.year >= 2001) & (euro_to_dollar['Time'].dt.year < 2021)]\n",
    "\n",
    "bush = bush_obama_trump.copy()[(bush_obama_trump['Time'].dt.year < 2009)]\n",
    "\n",
    "obama = bush_obama_trump.copy()[(bush_obama_trump['Time'].dt.year >= 2009) & (bush_obama_trump['Time'].dt.year < 2017)]\n",
    "\n",
    "trump = bush_obama_trump.copy()[(bush_obama_trump['Time'].dt.year >= 2017) & (bush_obama_trump['Time'].dt.year < 2021)]"
   ]
  },
  {
   "cell_type": "markdown",
   "metadata": {},
   "source": [
    "Below, you'll notice we used matplotlib's functional approach to build the graphs. We use this approach because it offers more flexibility in arranging the subplots:\n",
    "\n",
    "We first build three of the graphs on a 2-by-3 grid (this grid should have six subplots, but we only build three; the bottom row remains empty).\n",
    "We then build only the bottom graph of a 2-by-1 grid (this grid should have two subplots; the top row remains empty).\n",
    "The two grids are merged, and we end up with three graphs on the top row and one graph on the bottom row."
   ]
  },
  {
   "cell_type": "code",
   "execution_count": 34,
   "metadata": {},
   "outputs": [
    {
     "data": {
      "image/png": "[encoded data removed]",
      "text/plain": [
       "<Figure size 864x432 with 4 Axes>"
      ]
     },
     "metadata": {},
     "output_type": "display_data"
    }
   ],
   "source": [
    "#Import Style \n",
    "import matplotlib.style as style\n",
    "style.use('fivethirtyeight')\n",
    "\n",
    "#Create plots\n",
    "plt.figure(figsize = (12, 6))\n",
    "ax1 = plt.subplot(2, 3, 1)\n",
    "ax2 = plt.subplot(2, 3, 2)\n",
    "ax3 = plt.subplot(2, 3, 3)\n",
    "ax4 = plt.subplot(2, 1, 2)\n",
    "\n",
    "axes = [ax1, ax2, ax3, ax4]"
   ]
  },
  {
   "cell_type": "code",
   "execution_count": 48,
   "metadata": {},
   "outputs": [
    {
     "data": {
      "image/png": "[encoded data removed]",
      "text/plain": [
       "<Figure size 1080x432 with 4 Axes>"
      ]
     },
     "metadata": {},
     "output_type": "display_data"
    }
   ],
   "source": [
    "#Import Style \n",
    "import matplotlib.style as style\n",
    "style.use('fivethirtyeight')\n",
    "\n",
    "#Create plots\n",
    "plt.figure(figsize = (15, 6))\n",
    "ax1 = plt.subplot(2, 3, 1)\n",
    "ax2 = plt.subplot(2, 3, 2)\n",
    "ax3 = plt.subplot(2, 3, 3)\n",
    "ax4 = plt.subplot(2, 1, 2)\n",
    "\n",
    "axes = [ax1, ax2, ax3, ax4]\n",
    "\n",
    "for ax in axes: \n",
    "    ax.set_ylim(0.8, 1.7) \n",
    "    ax.set_yticks([1.0, 1.2, 1.4, 1.6])\n",
    "    ax.set_yticklabels(['1.0', '1.2','1.4', '1.6'],\n",
    "                   alpha=0.3)\n",
    "    ax.grid(alpha=0.5)    \n",
    "    \n",
    "#Hashing all texts as inserting Texts resulted in pixel size limitation\n",
    "\n",
    "#Ax1: Bush \n",
    "\n",
    "ax1.plot(bush['Time'], bush['rolling_mean'], color='#BF5FFF')\n",
    "ax1.set_xticklabels(['','2001', '', '2003', '', '2005', '', '2007', '', '2009'], alpha=0.3)\n",
    "\n",
    "#ax1.text(12300, 1.92, 'BUSH', size=18, weight='bold', color='#BF5FFF')\n",
    "#ax1.text(12000, 1.8, '(2001-2009)', weight='bold', alpha=0.3)\n",
    "\n",
    "#Ax2: Obama\n",
    "\n",
    "ax2.plot(obama['Time'], obama['rolling_mean'], color='#ffa500')\n",
    "ax2.set_xticklabels(['', '2009', '', '2011', '', '2013', '', '2015', '', '2017'], alpha = 0.3)\n",
    "\n",
    "#ax2.text(15100, 1.92, 'OBAMA', size=18, weight='bold', color='#ffa500')\n",
    "#ax2.text(14800, 1.92, '(2009-2017)', weight='bold', alpha=0.3)\n",
    "\n",
    "#Ax3: Trump\n",
    "\n",
    "ax3.plot(trump['Time'],trump['rolling_mean'], color='#00B2EE')\n",
    "ax3.set_xticklabels(['', '2017', '', '2018', '','2019', '', '2020', '', '2021'], alpha=0.3)\n",
    "\n",
    "#ax3.text(18100, 1.92, 'TRUMP', size=18, weight='bold', color='#00B2EE')\n",
    "#ax3.text(17800, 1.92, '(2017-2021)', weight='bold', alpha=0.3)\n",
    "\n",
    "### Ax4: Bush-Obama-Trump\n",
    "\n",
    "ax4.plot(bush['Time'], bush['rolling_mean'],\n",
    "        color='#BF5FFF')\n",
    "ax4.plot(obama['Time'], obama['rolling_mean'],\n",
    "        color='#ffa500')\n",
    "ax4.plot(trump['Time'], trump['rolling_mean'],\n",
    "        color='#00B2EE')\n",
    "ax4.grid(alpha=0.5)\n",
    "ax4.set_xticks([])\n",
    "\n",
    "\n",
    "## Adding Title to the Plot \n",
    "\n",
    "#ax1.text(10800, 2.35, 'EURO-USD rate averaged 1.22 under the last three US presidents',\n",
    "         #fontsize=20, weight='bold')\n",
    "#ax1.text(10800, 2.14, '''EURO-USD exchange rates under George W. Bush (2001 - 2009), Barack Obama (2009-2017),\n",
    "#and Donald Trump (2017-2021)''',\n",
    "        #fontsize=16)\n",
    "\n",
    "# Adding a signature\n",
    "#ax4.text(10700, 0.65, '©DATAQUEST' + ' '*103 + 'Source: European Central Bank',\n",
    "        #color = '#f0f0f0', backgroundcolor = '#4d4d4d',\n",
    "        #size=14)\n",
    "\n",
    "plt.show()"
   ]
  },
  {
   "cell_type": "code",
   "execution_count": 17,
   "metadata": {},
   "outputs": [],
   "source": [
    "## NEED TO ADJUST PIXEL "
   ]
  },
  {
   "cell_type": "code",
   "execution_count": null,
   "metadata": {},
   "outputs": [],
   "source": []
  }
 ],
 "metadata": {
  "kernelspec": {
   "display_name": "Python 3",
   "language": "python",
   "name": "python3"
  },
  "language_info": {
   "codemirror_mode": {
    "name": "ipython",
    "version": 3
   },
   "file_extension": ".py",
   "mimetype": "text/x-python",
   "name": "python",
   "nbconvert_exporter": "python",
   "pygments_lexer": "ipython3",
   "version": "3.8.3"
  }
 },
 "nbformat": 4,
 "nbformat_minor": 4
}
